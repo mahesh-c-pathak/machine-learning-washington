{
 "cells": [
  {
   "cell_type": "code",
   "execution_count": 1,
   "id": "c6175319",
   "metadata": {},
   "outputs": [
    {
     "data": {
      "text/plain": [
       "'/home/maheshubuntu18'"
      ]
     },
     "execution_count": 1,
     "metadata": {},
     "output_type": "execute_result"
    }
   ],
   "source": [
    "import os\n",
    "os.getcwd()"
   ]
  },
  {
   "cell_type": "code",
   "execution_count": null,
   "id": "113ad173",
   "metadata": {},
   "outputs": [],
   "source": []
  },
  {
   "cell_type": "markdown",
   "id": "ca5202e1",
   "metadata": {},
   "source": [
    "# Main Heading with\n",
    "## Sub heading\n",
    "* first\n",
    "* second"
   ]
  },
  {
   "cell_type": "code",
   "execution_count": 5,
   "id": "87207b1f",
   "metadata": {},
   "outputs": [
    {
     "name": "stdout",
     "output_type": "stream",
     "text": [
      "first_from_maheshubuntu18_pass_mahesh.ipynb  \u001b[0m\u001b[01;32mspider.txt\u001b[0m*  \u001b[01;34mvenv\u001b[0m/  \u001b[01;34mweek1\u001b[0m/\r\n"
     ]
    }
   ],
   "source": [
    "ls"
   ]
  },
  {
   "cell_type": "code",
   "execution_count": 6,
   "id": "7f6ae7ac",
   "metadata": {},
   "outputs": [
    {
     "name": "stdout",
     "output_type": "stream",
     "text": [
      "\u001b[0m\u001b[01;34mTuri-Getting-Started-with-SFrames.ipynb\u001b[0m/  \u001b[01;32mpeople-example.csv\u001b[0m*\r\n"
     ]
    }
   ],
   "source": [
    "ls week1/"
   ]
  },
  {
   "cell_type": "code",
   "execution_count": null,
   "id": "5bdb870b",
   "metadata": {},
   "outputs": [],
   "source": []
  },
  {
   "cell_type": "code",
   "execution_count": null,
   "id": "74066566",
   "metadata": {},
   "outputs": [],
   "source": []
  },
  {
   "cell_type": "markdown",
   "id": "789d2fd7",
   "metadata": {},
   "source": [
    "# Getting Started with Python\n",
    "\n",
    "## We have done\n",
    "* Installed Python\n",
    "* Started Ipython Notebook\n",
    "\n",
    "## Create Some Variables in Python\n"
   ]
  },
  {
   "cell_type": "code",
   "execution_count": null,
   "id": "0069dff1",
   "metadata": {},
   "outputs": [],
   "source": []
  },
  {
   "cell_type": "markdown",
   "id": "093ba703",
   "metadata": {},
   "source": [
    "# esc+M"
   ]
  },
  {
   "cell_type": "code",
   "execution_count": null,
   "id": "536b6b08",
   "metadata": {},
   "outputs": [],
   "source": []
  },
  {
   "cell_type": "code",
   "execution_count": 3,
   "id": "980453f3",
   "metadata": {},
   "outputs": [],
   "source": [
    "import turicreate as tc"
   ]
  },
  {
   "cell_type": "code",
   "execution_count": null,
   "id": "3aff9717",
   "metadata": {},
   "outputs": [],
   "source": []
  },
  {
   "cell_type": "code",
   "execution_count": 2,
   "id": "c7474d82",
   "metadata": {},
   "outputs": [],
   "source": [
    "tc??"
   ]
  },
  {
   "cell_type": "code",
   "execution_count": null,
   "id": "ca182ee3",
   "metadata": {},
   "outputs": [],
   "source": []
  }
 ],
 "metadata": {
  "kernelspec": {
   "display_name": "Python 3",
   "language": "python",
   "name": "python3"
  },
  "language_info": {
   "codemirror_mode": {
    "name": "ipython",
    "version": 3
   },
   "file_extension": ".py",
   "mimetype": "text/x-python",
   "name": "python",
   "nbconvert_exporter": "python",
   "pygments_lexer": "ipython3",
   "version": "3.6.9"
  }
 },
 "nbformat": 4,
 "nbformat_minor": 5
}
