{
 "cells": [
  {
   "cell_type": "markdown",
   "metadata": {},
   "source": [
    "# Regression Week 5: Feature Selection and LASSO (Interpretation)"
   ]
  },
  {
   "cell_type": "markdown",
   "metadata": {},
   "source": [
    "In this notebook, you will use LASSO to select features, building on a pre-implemented solver for LASSO (using Turi Create, though you can use other solvers). You will:\n",
    "* Run LASSO with different L1 penalties.\n",
    "* Choose best L1 penalty using a validation set.\n",
    "* Choose best L1 penalty using a validation set, with additional constraint on the size of subset.\n",
    "\n",
    "In the second notebook, you will implement your own LASSO solver, using coordinate descent. "
   ]
  },
  {
   "cell_type": "markdown",
   "metadata": {},
   "source": [
    "# Fire up Turi Create"
   ]
  },
  {
   "cell_type": "code",
   "execution_count": 1,
   "metadata": {},
   "outputs": [],
   "source": [
    "import turicreate"
   ]
  },
  {
   "cell_type": "markdown",
   "metadata": {},
   "source": [
    "# Load in house sales data\n",
    "\n",
    "Dataset is from house sales in King County, the region where the city of Seattle, WA is located."
   ]
  },
  {
   "cell_type": "code",
   "execution_count": 2,
   "metadata": {
    "scrolled": true
   },
   "outputs": [],
   "source": [
    "sales = turicreate.SFrame('~/Regression/Reg-week5/LASSO_1/home_data.sframe/')"
   ]
  },
  {
   "cell_type": "markdown",
   "metadata": {},
   "source": [
    "# Create new features"
   ]
  },
  {
   "cell_type": "markdown",
   "metadata": {},
   "source": [
    "As in Week 2, we consider features that are some transformations of inputs."
   ]
  },
  {
   "cell_type": "code",
   "execution_count": 3,
   "metadata": {},
   "outputs": [],
   "source": [
    "from math import log, sqrt\n",
    "sales['sqft_living_sqrt'] = sales['sqft_living'].apply(sqrt)\n",
    "sales['sqft_lot_sqrt'] = sales['sqft_lot'].apply(sqrt)\n",
    "sales['bedrooms_square'] = sales['bedrooms']*sales['bedrooms']\n",
    "\n",
    "# In the dataset, 'floors' was defined with type string, \n",
    "# so we'll convert them to float, before creating a new feature.\n",
    "sales['floors'] = sales['floors'].astype(float) \n",
    "sales['floors_square'] = sales['floors']*sales['floors']"
   ]
  },
  {
   "cell_type": "markdown",
   "metadata": {},
   "source": [
    "* Squaring bedrooms will increase the separation between not many bedrooms (e.g. 1) and lots of bedrooms (e.g. 4) since 1^2 = 1 but 4^2 = 16. Consequently this variable will mostly affect houses with many bedrooms.\n",
    "* On the other hand, taking square root of sqft_living will decrease the separation between big house and small house. The owner may not be exactly twice as happy for getting a house that is twice as big."
   ]
  },
  {
   "cell_type": "markdown",
   "metadata": {},
   "source": [
    "# Learn regression weights with L1 penalty"
   ]
  },
  {
   "cell_type": "markdown",
   "metadata": {},
   "source": [
    "Let us fit a model with all the features available, plus the features we just created above."
   ]
  },
  {
   "cell_type": "code",
   "execution_count": 4,
   "metadata": {},
   "outputs": [],
   "source": [
    "all_features = ['bedrooms', 'bedrooms_square',\n",
    "                'bathrooms',\n",
    "                'sqft_living', 'sqft_living_sqrt',\n",
    "                'sqft_lot', 'sqft_lot_sqrt',\n",
    "                'floors', 'floors_square',\n",
    "                'waterfront', 'view', 'condition', 'grade',\n",
    "                'sqft_above',\n",
    "                'sqft_basement',\n",
    "                'yr_built', 'yr_renovated']"
   ]
  },
  {
   "cell_type": "markdown",
   "metadata": {},
   "source": [
    "Applying L1 penalty requires adding an extra parameter (`l1_penalty`) to the linear regression call in Turi Create. (Other tools may have separate implementations of LASSO.)  Note that it's important to set `l2_penalty=0` to ensure we don't introduce an additional L2 penalty."
   ]
  },
  {
   "cell_type": "code",
   "execution_count": 5,
   "metadata": {},
   "outputs": [
    {
     "data": {
      "text/html": [
       "<pre>Linear regression:</pre>"
      ],
      "text/plain": [
       "Linear regression:"
      ]
     },
     "metadata": {},
     "output_type": "display_data"
    },
    {
     "data": {
      "text/html": [
       "<pre>--------------------------------------------------------</pre>"
      ],
      "text/plain": [
       "--------------------------------------------------------"
      ]
     },
     "metadata": {},
     "output_type": "display_data"
    },
    {
     "data": {
      "text/html": [
       "<pre>Number of examples          : 21613</pre>"
      ],
      "text/plain": [
       "Number of examples          : 21613"
      ]
     },
     "metadata": {},
     "output_type": "display_data"
    },
    {
     "data": {
      "text/html": [
       "<pre>Number of features          : 17</pre>"
      ],
      "text/plain": [
       "Number of features          : 17"
      ]
     },
     "metadata": {},
     "output_type": "display_data"
    },
    {
     "data": {
      "text/html": [
       "<pre>Number of unpacked features : 17</pre>"
      ],
      "text/plain": [
       "Number of unpacked features : 17"
      ]
     },
     "metadata": {},
     "output_type": "display_data"
    },
    {
     "data": {
      "text/html": [
       "<pre>Number of coefficients    : 18</pre>"
      ],
      "text/plain": [
       "Number of coefficients    : 18"
      ]
     },
     "metadata": {},
     "output_type": "display_data"
    },
    {
     "data": {
      "text/html": [
       "<pre>Starting Accelerated Gradient (FISTA)</pre>"
      ],
      "text/plain": [
       "Starting Accelerated Gradient (FISTA)"
      ]
     },
     "metadata": {},
     "output_type": "display_data"
    },
    {
     "data": {
      "text/html": [
       "<pre>--------------------------------------------------------</pre>"
      ],
      "text/plain": [
       "--------------------------------------------------------"
      ]
     },
     "metadata": {},
     "output_type": "display_data"
    },
    {
     "data": {
      "text/html": [
       "<pre>Tuning step size. First iteration could take longer than subsequent iterations.</pre>"
      ],
      "text/plain": [
       "Tuning step size. First iteration could take longer than subsequent iterations."
      ]
     },
     "metadata": {},
     "output_type": "display_data"
    },
    {
     "data": {
      "text/html": [
       "<pre>+-----------+----------+-----------+--------------+--------------------+---------------------------------+</pre>"
      ],
      "text/plain": [
       "+-----------+----------+-----------+--------------+--------------------+---------------------------------+"
      ]
     },
     "metadata": {},
     "output_type": "display_data"
    },
    {
     "data": {
      "text/html": [
       "<pre>| Iteration | Passes   | Step size | Elapsed Time | Training Max Error | Training Root-Mean-Square Error |</pre>"
      ],
      "text/plain": [
       "| Iteration | Passes   | Step size | Elapsed Time | Training Max Error | Training Root-Mean-Square Error |"
      ]
     },
     "metadata": {},
     "output_type": "display_data"
    },
    {
     "data": {
      "text/html": [
       "<pre>+-----------+----------+-----------+--------------+--------------------+---------------------------------+</pre>"
      ],
      "text/plain": [
       "+-----------+----------+-----------+--------------+--------------------+---------------------------------+"
      ]
     },
     "metadata": {},
     "output_type": "display_data"
    },
    {
     "data": {
      "text/html": [
       "<pre>| 0         | 1        | 1.000000  | 1.052389     | 7700000.000000     | 653047.733994                   |</pre>"
      ],
      "text/plain": [
       "| 0         | 1        | 1.000000  | 1.052389     | 7700000.000000     | 653047.733994                   |"
      ]
     },
     "metadata": {},
     "output_type": "display_data"
    },
    {
     "data": {
      "text/html": [
       "<pre>| 1         | 2        | 0.000002  | 1.285649     | 6962915.603493     | 426631.749026                   |</pre>"
      ],
      "text/plain": [
       "| 1         | 2        | 0.000002  | 1.285649     | 6962915.603493     | 426631.749026                   |"
      ]
     },
     "metadata": {},
     "output_type": "display_data"
    },
    {
     "data": {
      "text/html": [
       "<pre>| 2         | 3        | 0.000002  | 1.306098     | 6843144.200219     | 392488.929838                   |</pre>"
      ],
      "text/plain": [
       "| 2         | 3        | 0.000002  | 1.306098     | 6843144.200219     | 392488.929838                   |"
      ]
     },
     "metadata": {},
     "output_type": "display_data"
    },
    {
     "data": {
      "text/html": [
       "<pre>| 3         | 4        | 0.000002  | 1.337507     | 6831900.032123     | 385340.166783                   |</pre>"
      ],
      "text/plain": [
       "| 3         | 4        | 0.000002  | 1.337507     | 6831900.032123     | 385340.166783                   |"
      ]
     },
     "metadata": {},
     "output_type": "display_data"
    },
    {
     "data": {
      "text/html": [
       "<pre>| 4         | 5        | 0.000002  | 1.366342     | 6847166.848958     | 384842.383767                   |</pre>"
      ],
      "text/plain": [
       "| 4         | 5        | 0.000002  | 1.366342     | 6847166.848958     | 384842.383767                   |"
      ]
     },
     "metadata": {},
     "output_type": "display_data"
    },
    {
     "data": {
      "text/html": [
       "<pre>| 5         | 6        | 0.000002  | 1.387570     | 6869667.895833     | 385998.458623                   |</pre>"
      ],
      "text/plain": [
       "| 5         | 6        | 0.000002  | 1.387570     | 6869667.895833     | 385998.458623                   |"
      ]
     },
     "metadata": {},
     "output_type": "display_data"
    },
    {
     "data": {
      "text/html": [
       "<pre>| 10        | 11       | 0.000002  | 1.495415     | 6842123.232651     | 364204.576180                   |</pre>"
      ],
      "text/plain": [
       "| 10        | 11       | 0.000002  | 1.495415     | 6842123.232651     | 364204.576180                   |"
      ]
     },
     "metadata": {},
     "output_type": "display_data"
    },
    {
     "data": {
      "text/html": [
       "<pre>+-----------+----------+-----------+--------------+--------------------+---------------------------------+</pre>"
      ],
      "text/plain": [
       "+-----------+----------+-----------+--------------+--------------------+---------------------------------+"
      ]
     },
     "metadata": {},
     "output_type": "display_data"
    },
    {
     "data": {
      "text/html": [
       "<pre>Completed (Iteration limit reached).</pre>"
      ],
      "text/plain": [
       "Completed (Iteration limit reached)."
      ]
     },
     "metadata": {},
     "output_type": "display_data"
    },
    {
     "data": {
      "text/html": [
       "<pre>This model may not be optimal. To improve it, consider increasing `max_iterations`.</pre>"
      ],
      "text/plain": [
       "This model may not be optimal. To improve it, consider increasing `max_iterations`."
      ]
     },
     "metadata": {},
     "output_type": "display_data"
    }
   ],
   "source": [
    "model_all = turicreate.linear_regression.create(sales, target='price', features=all_features,\n",
    "                                                validation_set=None, \n",
    "                                                l2_penalty=0., l1_penalty=1e10)"
   ]
  },
  {
   "cell_type": "markdown",
   "metadata": {},
   "source": [
    "Find what features had non-zero weight."
   ]
  },
  {
   "cell_type": "code",
   "execution_count": null,
   "metadata": {},
   "outputs": [],
   "source": []
  },
  {
   "cell_type": "code",
   "execution_count": 6,
   "metadata": {},
   "outputs": [
    {
     "name": "stdout",
     "output_type": "stream",
     "text": [
      "Learned polynomial for degree 17:\n",
      "       14         13         5         4        3\n",
      "20.02 x  + 842.1 x  + 350.1 x + 24.42 x + 8469 x + 2.749e+05\n",
      "\n",
      "6\n"
     ]
    }
   ],
   "source": [
    "import numpy\n",
    "\n",
    "def print_coefficients(model):    \n",
    "    # Get the degree of the polynomial\n",
    "    deg = len(model.coefficients['value'])-1\n",
    "\n",
    "    # Get learned parameters as a list\n",
    "    w = list(model.coefficients['value'])\n",
    "\n",
    "    # Numpy has a nifty function to print out polynomials in a pretty way\n",
    "    # (We'll use it, but it needs the parameters in the reverse order)\n",
    "    print('Learned polynomial for degree ' + str(deg) + ':')\n",
    "    w.reverse()\n",
    "    print(numpy.poly1d(w))\n",
    "    print()\n",
    "    print(numpy.count_nonzero(w))\n",
    "    \n",
    "print_coefficients(model_all)"
   ]
  },
  {
   "cell_type": "code",
   "execution_count": 7,
   "metadata": {},
   "outputs": [
    {
     "name": "stdout",
     "output_type": "stream",
     "text": [
      "+------------------+-------+--------------------+--------+\n",
      "|       name       | index |       value        | stderr |\n",
      "+------------------+-------+--------------------+--------+\n",
      "|   (intercept)    |  None | 274873.0559504957  |  None  |\n",
      "|     bedrooms     |  None |        0.0         |  None  |\n",
      "| bedrooms_square  |  None |        0.0         |  None  |\n",
      "|    bathrooms     |  None | 8468.531086910072  |  None  |\n",
      "|   sqft_living    |  None | 24.420720982445214 |  None  |\n",
      "| sqft_living_sqrt |  None | 350.0605533860648  |  None  |\n",
      "|     sqft_lot     |  None |        0.0         |  None  |\n",
      "|  sqft_lot_sqrt   |  None |        0.0         |  None  |\n",
      "|      floors      |  None |        0.0         |  None  |\n",
      "|  floors_square   |  None |        0.0         |  None  |\n",
      "|    waterfront    |  None |        0.0         |  None  |\n",
      "|       view       |  None |        0.0         |  None  |\n",
      "|    condition     |  None |        0.0         |  None  |\n",
      "|      grade       |  None | 842.0680348976282  |  None  |\n",
      "|    sqft_above    |  None | 20.024722417091304 |  None  |\n",
      "|  sqft_basement   |  None |        0.0         |  None  |\n",
      "|     yr_built     |  None |        0.0         |  None  |\n",
      "|   yr_renovated   |  None |        0.0         |  None  |\n",
      "+------------------+-------+--------------------+--------+\n",
      "[18 rows x 4 columns]\n",
      "\n"
     ]
    }
   ],
   "source": [
    "model_all.coefficients.print_rows(19)"
   ]
  },
  {
   "cell_type": "code",
   "execution_count": null,
   "metadata": {},
   "outputs": [],
   "source": [
    "ans = 5"
   ]
  },
  {
   "cell_type": "markdown",
   "metadata": {},
   "source": [
    "Note that a majority of the weights have been set to zero. So by setting an L1 penalty that's large enough, we are performing a subset selection. \n",
    "\n",
    "***QUIZ QUESTION***:\n",
    "According to this list of weights, which of the features have been chosen? "
   ]
  },
  {
   "cell_type": "markdown",
   "metadata": {},
   "source": [
    "# Selecting an L1 penalty"
   ]
  },
  {
   "cell_type": "markdown",
   "metadata": {},
   "source": [
    "To find a good L1 penalty, we will explore multiple values using a validation set. Let us do three way split into train, validation, and test sets:\n",
    "* Split our sales data into 2 sets: training and test\n",
    "* Further split our training data into two sets: train, validation\n",
    "\n",
    "Be *very* careful that you use seed = 1 to ensure you get the same answer!"
   ]
  },
  {
   "cell_type": "code",
   "execution_count": 8,
   "metadata": {},
   "outputs": [],
   "source": [
    "(training_and_validation, testing) = sales.random_split(.9,seed=1) # initial train/test split\n",
    "(training, validation) = training_and_validation.random_split(0.5, seed=1) # split training into train and validate"
   ]
  },
  {
   "cell_type": "markdown",
   "metadata": {},
   "source": [
    "Next, we write a loop that does the following:\n",
    "* For `l1_penalty` in [10^1, 10^1.5, 10^2, 10^2.5, ..., 10^7] (to get this in Python, type `np.logspace(1, 7, num=13)`.)\n",
    "    * Fit a regression model with a given `l1_penalty` on TRAIN data. Specify `l1_penalty=l1_penalty` and `l2_penalty=0.` in the parameter list.\n",
    "    * Compute the RSS on VALIDATION data (here you will want to use `.predict()`) for that `l1_penalty`\n",
    "* Report which `l1_penalty` produced the lowest RSS on validation data.\n",
    "\n",
    "When you call `linear_regression.create()` make sure you set `validation_set = None`.\n",
    "\n",
    "Note: you can turn off the print out of `linear_regression.create()` with `verbose = False`"
   ]
  },
  {
   "cell_type": "code",
   "execution_count": 9,
   "metadata": {},
   "outputs": [
    {
     "name": "stdout",
     "output_type": "stream",
     "text": [
      "[625766285142459.9, 625766285362394.1, 625766286057885.0, 625766288257224.8, 625766295212186.6, 625766317206080.5, 625766386760658.1, 625766606749278.5, 625767302791634.1, 625769507643886.2, 625776517727024.0, 625799062845467.0, 625883719085425.2]\n"
     ]
    }
   ],
   "source": [
    "import numpy as np\n",
    "l1_penalty_values = np.logspace(1, 7, num=13)\n",
    "RSS_iterations = []\n",
    "for l1_penalty in l1_penalty_values:\n",
    "    model_i = turicreate.linear_regression.create(training, target='price', features=all_features,\n",
    "                                                validation_set=None, verbose = False,\n",
    "                                                l2_penalty=0., l1_penalty=l1_penalty)\n",
    "    validation_predictions = model_i.predict(validation)\n",
    "    validation_errors = validation_predictions - validation['price']\n",
    "    squared_validation_errors = validation_errors*validation_errors\n",
    "    RSS = squared_validation_errors.sum()\n",
    "    RSS_iterations.append(RSS)\n",
    "\n",
    "print(RSS_iterations)"
   ]
  },
  {
   "cell_type": "code",
   "execution_count": 10,
   "metadata": {},
   "outputs": [
    {
     "data": {
      "text/plain": [
       "0"
      ]
     },
     "execution_count": 10,
     "metadata": {},
     "output_type": "execute_result"
    }
   ],
   "source": [
    "RSS_iterations.index(min(RSS_iterations))"
   ]
  },
  {
   "cell_type": "code",
   "execution_count": 11,
   "metadata": {},
   "outputs": [
    {
     "data": {
      "text/plain": [
       "625766285142459.9"
      ]
     },
     "execution_count": 11,
     "metadata": {},
     "output_type": "execute_result"
    }
   ],
   "source": [
    "min(RSS_iterations)"
   ]
  },
  {
   "cell_type": "code",
   "execution_count": 12,
   "metadata": {},
   "outputs": [
    {
     "data": {
      "text/plain": [
       "10.0"
      ]
     },
     "execution_count": 12,
     "metadata": {},
     "output_type": "execute_result"
    }
   ],
   "source": [
    "l1_penalty_values[RSS_iterations.index(min(RSS_iterations))]"
   ]
  },
  {
   "cell_type": "code",
   "execution_count": 13,
   "metadata": {},
   "outputs": [
    {
     "name": "stdout",
     "output_type": "stream",
     "text": [
      "[10.0, 31.622776601683793, 100.0, 316.22776601683796, 1000.0, 3162.2776601683795, 10000.0, 31622.776601683792, 100000.0, 316227.7660168379, 1000000.0, 3162277.6601683795, 10000000.0]\n"
     ]
    }
   ],
   "source": [
    "print(list(l1_penalty_values))"
   ]
  },
  {
   "cell_type": "code",
   "execution_count": null,
   "metadata": {},
   "outputs": [],
   "source": []
  },
  {
   "cell_type": "markdown",
   "metadata": {},
   "source": [
    "*** QUIZ QUESTION. *** What was the best value for the `l1_penalty`?"
   ]
  },
  {
   "cell_type": "code",
   "execution_count": null,
   "metadata": {},
   "outputs": [],
   "source": [
    "Ans = 10"
   ]
  },
  {
   "cell_type": "markdown",
   "metadata": {},
   "source": [
    "***QUIZ QUESTION***\n",
    "Also, using this value of L1 penalty, how many nonzero weights do you have?"
   ]
  },
  {
   "cell_type": "code",
   "execution_count": 14,
   "metadata": {},
   "outputs": [
    {
     "name": "stdout",
     "output_type": "stream",
     "text": [
      "+------------------+-------+----------------------+--------+\n",
      "|       name       | index |        value         | stderr |\n",
      "+------------------+-------+----------------------+--------+\n",
      "|   (intercept)    |  None |  18993.427212770577  |  None  |\n",
      "|     bedrooms     |  None |  7936.967679031306   |  None  |\n",
      "| bedrooms_square  |  None |   936.993368193299   |  None  |\n",
      "|    bathrooms     |  None |  25409.58893412067   |  None  |\n",
      "|   sqft_living    |  None |  39.11513637970762   |  None  |\n",
      "| sqft_living_sqrt |  None |  1124.6502128077207  |  None  |\n",
      "|     sqft_lot     |  None | 0.003483618222989743 |  None  |\n",
      "|  sqft_lot_sqrt   |  None |  148.2583910114082   |  None  |\n",
      "|      floors      |  None |  21204.33546695013   |  None  |\n",
      "|  floors_square   |  None |  12915.524336072436  |  None  |\n",
      "|    waterfront    |  None |  601905.5945452718   |  None  |\n",
      "|       view       |  None |  93312.85731187189   |  None  |\n",
      "|    condition     |  None |  6609.035712447216   |  None  |\n",
      "|      grade       |  None |  6206.939991880551   |  None  |\n",
      "|    sqft_above    |  None |  43.28705341933558   |  None  |\n",
      "|  sqft_basement   |  None |  122.36782753411931  |  None  |\n",
      "|     yr_built     |  None |  9.433635393724884   |  None  |\n",
      "|   yr_renovated   |  None |  56.072003448822386  |  None  |\n",
      "+------------------+-------+----------------------+--------+\n",
      "[18 rows x 4 columns]\n",
      "\n"
     ]
    }
   ],
   "source": [
    "model_best = turicreate.linear_regression.create(training, target='price', features=all_features,\n",
    "                                                validation_set=None, verbose = False,\n",
    "                                                l2_penalty=0., l1_penalty=10.0)\n",
    "model_best.coefficients.print_rows(19)"
   ]
  },
  {
   "cell_type": "code",
   "execution_count": null,
   "metadata": {},
   "outputs": [],
   "source": []
  },
  {
   "cell_type": "code",
   "execution_count": null,
   "metadata": {},
   "outputs": [],
   "source": []
  },
  {
   "cell_type": "markdown",
   "metadata": {},
   "source": [
    "# Limit the number of nonzero weights\n",
    "\n",
    "What if we absolutely wanted to limit ourselves to, say, 7 features? This may be important if we want to derive \"a rule of thumb\" --- an interpretable model that has only a few features in them."
   ]
  },
  {
   "cell_type": "markdown",
   "metadata": {},
   "source": [
    "In this section, you are going to implement a simple, two phase procedure to achive this goal:\n",
    "1. Explore a large range of `l1_penalty` values to find a narrow region of `l1_penalty` values where models are likely to have the desired number of non-zero weights.\n",
    "2. Further explore the narrow region you found to find a good value for `l1_penalty` that achieves the desired sparsity.  Here, we will again use a validation set to choose the best value for `l1_penalty`."
   ]
  },
  {
   "cell_type": "code",
   "execution_count": 15,
   "metadata": {},
   "outputs": [],
   "source": [
    "max_nonzeros = 7"
   ]
  },
  {
   "cell_type": "markdown",
   "metadata": {},
   "source": [
    "## Exploring the larger range of values to find a narrow range with the desired sparsity\n",
    "\n",
    "Let's define a wide range of possible `l1_penalty_values`:"
   ]
  },
  {
   "cell_type": "code",
   "execution_count": 16,
   "metadata": {},
   "outputs": [],
   "source": [
    "l1_penalty_values = np.logspace(8, 10, num=20)"
   ]
  },
  {
   "cell_type": "markdown",
   "metadata": {},
   "source": [
    "Now, implement a loop that search through this space of possible `l1_penalty` values:\n",
    "\n",
    "* For `l1_penalty` in `np.logspace(8, 10, num=20)`:\n",
    "    * Fit a regression model with a given `l1_penalty` on TRAIN data. Specify `l1_penalty=l1_penalty` and `l2_penalty=0.` in the parameter list. When you call `linear_regression.create()` make sure you set `validation_set = None`\n",
    "    * Extract the weights of the model and count the number of nonzeros. Save the number of nonzeros to a list.\n",
    "        * *Hint: `model.coefficients['value']` gives you an SArray with the parameters you learned.  If you call the method `.nnz()` on it, you will find the number of non-zero parameters!* "
   ]
  },
  {
   "cell_type": "code",
   "execution_count": 17,
   "metadata": {},
   "outputs": [
    {
     "name": "stdout",
     "output_type": "stream",
     "text": [
      "[18, 18, 18, 18, 17, 17, 17, 17, 17, 16, 15, 15, 13, 12, 10, 6, 5, 3, 1, 1]\n",
      "\n",
      "[1.00000000e+08 1.27427499e+08 1.62377674e+08 2.06913808e+08\n",
      " 2.63665090e+08 3.35981829e+08 4.28133240e+08 5.45559478e+08\n",
      " 6.95192796e+08 8.85866790e+08 1.12883789e+09 1.43844989e+09\n",
      " 1.83298071e+09 2.33572147e+09 2.97635144e+09 3.79269019e+09\n",
      " 4.83293024e+09 6.15848211e+09 7.84759970e+09 1.00000000e+10]\n"
     ]
    }
   ],
   "source": [
    "nonzero_weights_per_iteration = []\n",
    "for l1_penalty in l1_penalty_values:\n",
    "        model_i = turicreate.linear_regression.create(training, target='price', features=all_features,\n",
    "                                                validation_set=None, verbose = False,\n",
    "                                                l2_penalty=0., l1_penalty=l1_penalty)\n",
    "        w = list(model_i.coefficients['value'])\n",
    "        nonzero_weights_per_iteration.append(numpy.count_nonzero(w))\n",
    "\n",
    "print(nonzero_weights_per_iteration)\n",
    "print()\n",
    "print(l1_penalty_values)"
   ]
  },
  {
   "cell_type": "code",
   "execution_count": 18,
   "metadata": {},
   "outputs": [
    {
     "name": "stdout",
     "output_type": "stream",
     "text": [
      "10\n",
      "14\n",
      "2976351441.6313133\n"
     ]
    }
   ],
   "source": [
    "min_nonzero_weights_above_max_nonzeros = min([x for x in nonzero_weights_per_iteration if x > max_nonzeros])\n",
    "print(min_nonzero_weights_above_max_nonzeros)\n",
    "idx_max = nonzero_weights_per_iteration.index(min_nonzero_weights_above_max_nonzeros)\n",
    "print(idx_max)\n",
    "print(l1_penalty_values[idx_max])"
   ]
  },
  {
   "cell_type": "code",
   "execution_count": 19,
   "metadata": {},
   "outputs": [
    {
     "name": "stdout",
     "output_type": "stream",
     "text": [
      "6\n",
      "15\n",
      "3792690190.7322536\n"
     ]
    }
   ],
   "source": [
    "max_nonzero_weights_below_max_nonzeros = max([x for x in nonzero_weights_per_iteration if x < max_nonzeros])\n",
    "print(max_nonzero_weights_below_max_nonzeros)\n",
    "idx_min = nonzero_weights_per_iteration.index(max_nonzero_weights_below_max_nonzeros)\n",
    "print(idx_min)\n",
    "print(l1_penalty_values[idx_min])"
   ]
  },
  {
   "cell_type": "code",
   "execution_count": null,
   "metadata": {},
   "outputs": [],
   "source": []
  },
  {
   "cell_type": "markdown",
   "metadata": {},
   "source": [
    "Out of this large range, we want to find the two ends of our desired narrow range of `l1_penalty`.  At one end, we will have `l1_penalty` values that have too few non-zeros, and at the other end, we will have an `l1_penalty` that has too many non-zeros.  \n",
    "\n",
    "More formally, find:\n",
    "* The largest `l1_penalty` that has more non-zeros than `max_nonzeros` (if we pick a penalty smaller than this value, we will definitely have too many non-zero weights)\n",
    "    * Store this value in the variable `l1_penalty_min` (we will use it later)\n",
    "* The smallest `l1_penalty` that has fewer non-zeros than `max_nonzeros` (if we pick a penalty larger than this value, we will definitely have too few non-zero weights)\n",
    "    * Store this value in the variable `l1_penalty_max` (we will use it later)\n",
    "\n",
    "\n",
    "*Hint: there are many ways to do this, e.g.:*\n",
    "* Programmatically within the loop above\n",
    "* Creating a list with the number of non-zeros for each value of `l1_penalty` and inspecting it to find the appropriate boundaries."
   ]
  },
  {
   "cell_type": "code",
   "execution_count": 36,
   "metadata": {},
   "outputs": [
    {
     "name": "stdout",
     "output_type": "stream",
     "text": [
      "3320073020.2001305\n",
      "3620829401.447845\n",
      "\n",
      "3320073020.0\n"
     ]
    }
   ],
   "source": [
    "l1_penalty_min = l1_penalty_values[idx_max]\n",
    "l1_penalty_max = l1_penalty_values[idx_min]\n",
    "print(l1_penalty_min)\n",
    "print(l1_penalty_max)\n",
    "\n",
    "print()\n",
    "print(round(l1_penalty_min,0))\n"
   ]
  },
  {
   "cell_type": "markdown",
   "metadata": {},
   "source": [
    "***QUIZ QUESTION.*** What values did you find for `l1_penalty_min` and `l1_penalty_max`, respectively? "
   ]
  },
  {
   "cell_type": "markdown",
   "metadata": {},
   "source": [
    "## Exploring the narrow range of values to find the solution with the right number of non-zeros that has lowest RSS on the validation set \n",
    "\n",
    "We will now explore the narrow region of `l1_penalty` values we found:"
   ]
  },
  {
   "cell_type": "code",
   "execution_count": 21,
   "metadata": {},
   "outputs": [],
   "source": [
    "l1_penalty_values = np.linspace(l1_penalty_min,l1_penalty_max,20)"
   ]
  },
  {
   "cell_type": "markdown",
   "metadata": {},
   "source": [
    "* For `l1_penalty` in `np.linspace(l1_penalty_min,l1_penalty_max,20)`:\n",
    "    * Fit a regression model with a given `l1_penalty` on TRAIN data. Specify `l1_penalty=l1_penalty` and `l2_penalty=0.` in the parameter list. When you call `linear_regression.create()` make sure you set `validation_set = None`\n",
    "    * Measure the RSS of the learned model on the VALIDATION set\n",
    "\n",
    "Find the model that the lowest RSS on the VALIDATION set and has sparsity *equal* to `max_nonzeros`."
   ]
  },
  {
   "cell_type": "code",
   "execution_count": null,
   "metadata": {},
   "outputs": [],
   "source": []
  },
  {
   "cell_type": "code",
   "execution_count": 22,
   "metadata": {},
   "outputs": [
    {
     "name": "stdout",
     "output_type": "stream",
     "text": [
      "[966925692362084.5, 974019450084556.1, 981188367942452.8, 989328342459473.8, 998783211265891.2, 1008477167020094.0, 1018298780553819.8, 1028247992205977.2, 1034616909232828.0, 1038554735941040.8, 1043237237871703.0, 1046937488751711.1, 1051147625612860.9, 1055992735342999.1, 1060799531763287.9, 1065707689498230.1, 1069464335425586.5, 1073504549585599.6, 1077632775581416.0, 1081867592324110.6]\n",
      "\n",
      "[10, 10, 10, 10, 10, 10, 10, 10, 8, 8, 8, 7, 7, 7, 7, 6, 6, 6, 6, 6]\n",
      "\n",
      "[2.97635144e+09 3.01931664e+09 3.06228184e+09 3.10524703e+09\n",
      " 3.14821223e+09 3.19117743e+09 3.23414263e+09 3.27710782e+09\n",
      " 3.32007302e+09 3.36303822e+09 3.40600341e+09 3.44896861e+09\n",
      " 3.49193381e+09 3.53489901e+09 3.57786420e+09 3.62082940e+09\n",
      " 3.66379460e+09 3.70675980e+09 3.74972499e+09 3.79269019e+09]\n"
     ]
    }
   ],
   "source": [
    "nonzero_weights_per_iteration = []\n",
    "RSS_iterations = []\n",
    "for l1_penalty in l1_penalty_values:\n",
    "    model_i = turicreate.linear_regression.create(training, target='price', features=all_features,\n",
    "                                                validation_set=None, verbose = False,\n",
    "                                                l2_penalty=0., l1_penalty=l1_penalty)\n",
    "    validation_predictions = model_i.predict(validation)\n",
    "    validation_errors = validation_predictions - validation['price']\n",
    "    squared_validation_errors = validation_errors*validation_errors\n",
    "    RSS = squared_validation_errors.sum()\n",
    "    RSS_iterations.append(RSS)\n",
    "    w = list(model_i.coefficients['value'])\n",
    "    nonzero_weights_per_iteration.append(numpy.count_nonzero(w))\n",
    "\n",
    "print(RSS_iterations)\n",
    "print()\n",
    "print(nonzero_weights_per_iteration)\n",
    "print()\n",
    "print(l1_penalty_values)"
   ]
  },
  {
   "cell_type": "code",
   "execution_count": 23,
   "metadata": {},
   "outputs": [
    {
     "name": "stdout",
     "output_type": "stream",
     "text": [
      "8\n",
      "8\n",
      "3320073020.2001305\n"
     ]
    }
   ],
   "source": [
    "min_nonzero_weights_above_max_nonzeros = min([x for x in nonzero_weights_per_iteration if x > max_nonzeros])\n",
    "print(min_nonzero_weights_above_max_nonzeros)\n",
    "idx_max = nonzero_weights_per_iteration.index(min_nonzero_weights_above_max_nonzeros)\n",
    "print(idx_max)\n",
    "print(l1_penalty_values[idx_max])"
   ]
  },
  {
   "cell_type": "code",
   "execution_count": 34,
   "metadata": {},
   "outputs": [
    {
     "name": "stdout",
     "output_type": "stream",
     "text": [
      "7\n",
      "11\n",
      "3448968612.163437\n",
      "\n",
      "6\n",
      "15\n",
      "3620829401.447845\n",
      "\n",
      "[7, 7, 7, 7]\n",
      "[3.44896861e+09 3.49193381e+09 3.53489901e+09 3.57786420e+09]\n",
      "[1046937488751711.1, 1051147625612860.9, 1055992735342999.1, 1060799531763287.9]\n",
      "\n",
      "3448968612.163437\n",
      "1046937488751711.1\n"
     ]
    }
   ],
   "source": [
    "equal_max_nonzeros = min([x for x in nonzero_weights_per_iteration if x == max_nonzeros])\n",
    "print(equal_max_nonzeros)\n",
    "idx_equal_first = nonzero_weights_per_iteration.index(equal_max_nonzeros)\n",
    "print(idx_equal_first)\n",
    "print(l1_penalty_values[idx_equal_first])\n",
    "print()\n",
    "\n",
    "max_nonzero_weights_below_max_nonzeros = max([x for x in nonzero_weights_per_iteration if x < max_nonzeros])\n",
    "print(max_nonzero_weights_below_max_nonzeros)\n",
    "idx_min = nonzero_weights_per_iteration.index(max_nonzero_weights_below_max_nonzeros)\n",
    "print(idx_min)\n",
    "print(l1_penalty_values[idx_min])\n",
    "print()\n",
    "print(nonzero_weights_per_iteration[idx_equal_first:idx_min])\n",
    "print(l1_penalty_values[idx_equal_first:idx_min])\n",
    "print(RSS_iterations[idx_equal_first:idx_min])\n",
    "\n",
    "print()\n",
    "print(min(l1_penalty_values[idx_equal_first:idx_min]))\n",
    "print(min(RSS_iterations[idx_equal_first:idx_min]))\n"
   ]
  },
  {
   "cell_type": "markdown",
   "metadata": {},
   "source": [
    "***QUIZ QUESTIONS***\n",
    "1. What value of `l1_penalty` in our narrow range has the lowest RSS on the VALIDATION set and has sparsity *equal* to `max_nonzeros`?\n",
    "2. What features in this model have non-zero coefficients?"
   ]
  },
  {
   "cell_type": "code",
   "execution_count": 32,
   "metadata": {},
   "outputs": [
    {
     "name": "stdout",
     "output_type": "stream",
     "text": [
      "+------------------+-------+--------------------+--------+\n",
      "|       name       | index |       value        | stderr |\n",
      "+------------------+-------+--------------------+--------+\n",
      "|   (intercept)    |  None | 222253.19254432785 |  None  |\n",
      "|     bedrooms     |  None | 661.7227177822587  |  None  |\n",
      "| bedrooms_square  |  None |        0.0         |  None  |\n",
      "|    bathrooms     |  None | 15873.957259267981 |  None  |\n",
      "|   sqft_living    |  None | 32.41022145125964  |  None  |\n",
      "| sqft_living_sqrt |  None | 690.1147733133256  |  None  |\n",
      "|     sqft_lot     |  None |        0.0         |  None  |\n",
      "|  sqft_lot_sqrt   |  None |        0.0         |  None  |\n",
      "|      floors      |  None |        0.0         |  None  |\n",
      "|  floors_square   |  None |        0.0         |  None  |\n",
      "|    waterfront    |  None |        0.0         |  None  |\n",
      "|       view       |  None |        0.0         |  None  |\n",
      "|    condition     |  None |        0.0         |  None  |\n",
      "|      grade       |  None | 2899.4202697498786 |  None  |\n",
      "|    sqft_above    |  None | 30.011575302201045 |  None  |\n",
      "|  sqft_basement   |  None |        0.0         |  None  |\n",
      "|     yr_built     |  None |        0.0         |  None  |\n",
      "|   yr_renovated   |  None |        0.0         |  None  |\n",
      "+------------------+-------+--------------------+--------+\n",
      "[18 rows x 4 columns]\n",
      "\n"
     ]
    }
   ],
   "source": [
    "model_best = turicreate.linear_regression.create(training, target='price', features=all_features,\n",
    "                                                validation_set=None, verbose = False,\n",
    "                                                l2_penalty=0., l1_penalty=3.44896861e+09)\n",
    "model_best.coefficients.print_rows(19)"
   ]
  },
  {
   "cell_type": "code",
   "execution_count": null,
   "metadata": {},
   "outputs": [],
   "source": []
  }
 ],
 "metadata": {
  "kernelspec": {
   "display_name": "Python 3",
   "language": "python",
   "name": "python3"
  },
  "language_info": {
   "codemirror_mode": {
    "name": "ipython",
    "version": 3
   },
   "file_extension": ".py",
   "mimetype": "text/x-python",
   "name": "python",
   "nbconvert_exporter": "python",
   "pygments_lexer": "ipython3",
   "version": "3.6.9"
  }
 },
 "nbformat": 4,
 "nbformat_minor": 1
}
