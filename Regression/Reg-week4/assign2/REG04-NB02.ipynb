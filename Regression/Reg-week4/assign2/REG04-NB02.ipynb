{
 "cells": [
  {
   "cell_type": "markdown",
   "metadata": {},
   "source": [
    "# Regression Week 4: Ridge Regression (gradient descent)"
   ]
  },
  {
   "cell_type": "markdown",
   "metadata": {},
   "source": [
    "In this notebook, you will implement ridge regression via gradient descent. You will:\n",
    "* Convert an SFrame into a Numpy array\n",
    "* Write a Numpy function to compute the derivative of the regression weights with respect to a single feature\n",
    "* Write gradient descent function to compute the regression weights given an initial weight vector, step size, tolerance, and L2 penalty"
   ]
  },
  {
   "cell_type": "markdown",
   "metadata": {},
   "source": [
    "# Fire up Turi Create"
   ]
  },
  {
   "cell_type": "markdown",
   "metadata": {},
   "source": [
    "Make sure you have the latest version of Turi Create"
   ]
  },
  {
   "cell_type": "code",
   "execution_count": 1,
   "metadata": {},
   "outputs": [],
   "source": [
    "import turicreate"
   ]
  },
  {
   "cell_type": "markdown",
   "metadata": {},
   "source": [
    "# Load in house sales data\n",
    "\n",
    "Dataset is from house sales in King County, the region where the city of Seattle, WA is located."
   ]
  },
  {
   "cell_type": "code",
   "execution_count": 2,
   "metadata": {},
   "outputs": [],
   "source": [
    "sales = turicreate.SFrame('~/Regression/Reg-week4/assign2/home_data.sframe/')"
   ]
  },
  {
   "cell_type": "markdown",
   "metadata": {},
   "source": [
    "If we want to do any \"feature engineering\" like creating new features or adjusting existing ones we should do this directly using the SFrames as seen in the first notebook of Week 2. For this notebook, however, we will work with the existing features."
   ]
  },
  {
   "cell_type": "markdown",
   "metadata": {},
   "source": [
    "# Import useful functions from previous notebook"
   ]
  },
  {
   "cell_type": "markdown",
   "metadata": {},
   "source": [
    "As in Week 2, we convert the SFrame into a 2D Numpy array. Copy and paste `get_numpy_data()` from the second notebook of Week 2."
   ]
  },
  {
   "cell_type": "code",
   "execution_count": 3,
   "metadata": {},
   "outputs": [],
   "source": [
    "import numpy as np # note this allows us to refer to numpy as np instead "
   ]
  },
  {
   "cell_type": "code",
   "execution_count": 4,
   "metadata": {},
   "outputs": [],
   "source": [
    "def get_numpy_data(data_sframe, features, output):\n",
    "    data_sframe['constant'] = 1 # this is how you add a constant column to an SFrame\n",
    "    # add the column 'constant' to the front of the features list so that we can extract it along with the others:\n",
    "    features = ['constant'] + features # this is how you combine two lists\n",
    "    # select the columns of data_SFrame given by the features list into the SFrame features_sframe (now including constant):\n",
    "    features_sframe = data_sframe[features]\n",
    "\n",
    "    # the following line will convert the features_SFrame into a numpy matrix:\n",
    "    feature_matrix = features_sframe.to_numpy()\n",
    "    # assign the column of data_sframe associated with the output to the SArray output_sarray\n",
    "    output_sarray = data_sframe[output]\n",
    "\n",
    "    # the following will convert the SArray into a numpy array by first converting it to a list\n",
    "    output_array = output_sarray.to_numpy()\n",
    "    return(feature_matrix, output_array)"
   ]
  },
  {
   "cell_type": "markdown",
   "metadata": {},
   "source": [
    "Also, copy and paste the `predict_output()` function to compute the predictions for an entire matrix of features given the matrix and the weights:"
   ]
  },
  {
   "cell_type": "code",
   "execution_count": 5,
   "metadata": {},
   "outputs": [],
   "source": [
    "def predict_output(feature_matrix, weights):\n",
    "    # assume feature_matrix is a numpy matrix containing the features as columns and weights is a corresponding numpy array\n",
    "    # create the predictions vector by using np.dot()\n",
    "    predictions = np.dot(feature_matrix, weights)\n",
    "\n",
    "    return(predictions)"
   ]
  },
  {
   "cell_type": "markdown",
   "metadata": {},
   "source": [
    "# Computing the Derivative"
   ]
  },
  {
   "cell_type": "markdown",
   "metadata": {},
   "source": [
    "We are now going to move to computing the derivative of the regression cost function. Recall that the cost function is the sum over the data points of the squared difference between an observed output and a predicted output, plus the L2 penalty term.\n",
    "```\n",
    "Cost(w)\n",
    "= SUM[ (prediction - output)^2 ]\n",
    "+ l2_penalty*(w[0]^2 + w[1]^2 + ... + w[k]^2).\n",
    "```\n",
    "\n",
    "Since the derivative of a sum is the sum of the derivatives, we can take the derivative of the first part (the RSS) as we did in the notebook for the unregularized case in Week 2 and add the derivative of the regularization part.  As we saw, the derivative of the RSS with respect to `w[i]` can be written as: \n",
    "```\n",
    "2*SUM[ error*[feature_i] ].\n",
    "```\n",
    "The derivative of the regularization term with respect to `w[i]` is:\n",
    "```\n",
    "2*l2_penalty*w[i].\n",
    "```\n",
    "Summing both, we get\n",
    "```\n",
    "2*SUM[ error*[feature_i] ] + 2*l2_penalty*w[i].\n",
    "```\n",
    "That is, the derivative for the weight for feature i is the sum (over data points) of 2 times the product of the error and the feature itself, plus `2*l2_penalty*w[i]`. \n",
    "\n",
    "**We will not regularize the constant.**  Thus, in the case of the constant, the derivative is just twice the sum of the errors (without the `2*l2_penalty*w[0]` term).\n",
    "\n",
    "Recall that twice the sum of the product of two vectors is just twice the dot product of the two vectors. Therefore the derivative for the weight for feature_i is just two times the dot product between the values of feature_i and the current errors, plus `2*l2_penalty*w[i]`.\n",
    "\n",
    "With this in mind complete the following derivative function which computes the derivative of the weight given the value of the feature (over all data points) and the errors (over all data points).  To decide when to we are dealing with the constant (so we don't regularize it) we added the extra parameter to the call `feature_is_constant` which you should set to `True` when computing the derivative of the constant and `False` otherwise."
   ]
  },
  {
   "cell_type": "code",
   "execution_count": 6,
   "metadata": {},
   "outputs": [],
   "source": [
    "def feature_derivative_ridge(errors, feature, weight, l2_penalty, feature_is_constant):\n",
    "    # If feature_is_constant is True, derivative is twice the dot product of errors and feature\n",
    "    if feature_is_constant == True:\n",
    "        derivative = 2*np.dot(feature, errors)\n",
    "    else:\n",
    "        derivative = 2*np.dot(feature, errors)+(2*l2_penalty*weight)        \n",
    "    \n",
    "    # Otherwise, derivative is twice the dot product plus 2*l2_penalty*weight\n",
    "    \n",
    "    return derivative"
   ]
  },
  {
   "cell_type": "markdown",
   "metadata": {},
   "source": [
    "To test your feature derivartive run the following:"
   ]
  },
  {
   "cell_type": "code",
   "execution_count": 7,
   "metadata": {},
   "outputs": [
    {
     "name": "stdout",
     "output_type": "stream",
     "text": [
      "-56554166782350.0\n",
      "-56554166782350.0\n",
      "\n",
      "-22446749336.0\n",
      "-22446749336.0\n"
     ]
    }
   ],
   "source": [
    "(example_features, example_output) = get_numpy_data(sales, ['sqft_living'], 'price') \n",
    "my_weights = np.array([1., 10.])\n",
    "test_predictions = predict_output(example_features, my_weights) \n",
    "errors = test_predictions - example_output # prediction errors\n",
    "\n",
    "# next two lines should print the same values\n",
    "print(feature_derivative_ridge(errors, example_features[:,1], my_weights[1], 1, False))\n",
    "print(np.sum(errors*example_features[:,1])*2+20.)\n",
    "print('')\n",
    "\n",
    "# next two lines should print the same values\n",
    "print(feature_derivative_ridge(errors, example_features[:,0], my_weights[0], 1, True))\n",
    "print(np.sum(errors)*2.)"
   ]
  },
  {
   "cell_type": "code",
   "execution_count": 13,
   "metadata": {},
   "outputs": [
    {
     "data": {
      "text/plain": [
       "array([1., 1., 1., ..., 1., 1., 1.])"
      ]
     },
     "execution_count": 13,
     "metadata": {},
     "output_type": "execute_result"
    }
   ],
   "source": [
    "example_features[:,0]"
   ]
  },
  {
   "cell_type": "code",
   "execution_count": 14,
   "metadata": {},
   "outputs": [
    {
     "data": {
      "text/plain": [
       "array([1180., 2570.,  770., ..., 1020., 1600., 1020.])"
      ]
     },
     "execution_count": 14,
     "metadata": {},
     "output_type": "execute_result"
    }
   ],
   "source": [
    "example_features[:,1]"
   ]
  },
  {
   "cell_type": "code",
   "execution_count": 15,
   "metadata": {},
   "outputs": [
    {
     "data": {
      "text/plain": [
       "array([[1.00e+00, 1.18e+03],\n",
       "       [1.00e+00, 2.57e+03],\n",
       "       [1.00e+00, 7.70e+02],\n",
       "       ...,\n",
       "       [1.00e+00, 1.02e+03],\n",
       "       [1.00e+00, 1.60e+03],\n",
       "       [1.00e+00, 1.02e+03]])"
      ]
     },
     "execution_count": 15,
     "metadata": {},
     "output_type": "execute_result"
    }
   ],
   "source": [
    "example_features"
   ]
  },
  {
   "cell_type": "code",
   "execution_count": 16,
   "metadata": {},
   "outputs": [
    {
     "data": {
      "text/plain": [
       "21613"
      ]
     },
     "execution_count": 16,
     "metadata": {},
     "output_type": "execute_result"
    }
   ],
   "source": [
    "len(example_features)"
   ]
  },
  {
   "cell_type": "code",
   "execution_count": null,
   "metadata": {},
   "outputs": [],
   "source": []
  },
  {
   "cell_type": "markdown",
   "metadata": {},
   "source": [
    "# Gradient Descent"
   ]
  },
  {
   "cell_type": "markdown",
   "metadata": {},
   "source": [
    "Now we will write a function that performs a gradient descent. The basic premise is simple. Given a starting point we update the current weights by moving in the negative gradient direction. Recall that the gradient is the direction of *increase* and therefore the negative gradient is the direction of *decrease* and we're trying to *minimize* a cost function. \n",
    "\n",
    "The amount by which we move in the negative gradient *direction*  is called the 'step size'. We stop when we are 'sufficiently close' to the optimum. Unlike in Week 2, this time we will set a **maximum number of iterations** and take gradient steps until we reach this maximum number. If no maximum number is supplied, the maximum should be set 100 by default. (Use default parameter values in Python.)\n",
    "\n",
    "With this in mind, complete the following gradient descent function below using your derivative function above. For each step in the gradient descent, we update the weight for each feature before computing our stopping criteria."
   ]
  },
  {
   "cell_type": "code",
   "execution_count": 23,
   "metadata": {},
   "outputs": [],
   "source": [
    "def ridge_regression_gradient_descent(feature_matrix, output, initial_weights, step_size, l2_penalty, max_iterations=100):\n",
    "    print('Starting gradient descent with l2_penalty = ' + str(l2_penalty))\n",
    "    \n",
    "    weights = np.array(initial_weights) # make sure it's a numpy array\n",
    "    iteration = 0 # iteration counter\n",
    "    print_frequency = 1  # for adjusting frequency of debugging output\n",
    "    \n",
    "    #while not reached maximum number of iterations:\n",
    "    while max_iterations > iteration:\n",
    "        iteration += 1  # increment iteration counter\n",
    "        ### === code section for adjusting frequency of debugging output. ===\n",
    "        if iteration == 10:\n",
    "            print_frequency = 10\n",
    "        if iteration == 100:\n",
    "            print_frequency = 100\n",
    "        if iteration%print_frequency==0:\n",
    "            print('Iteration = ' + str(iteration))\n",
    "        ### === end code section ===\n",
    "        \n",
    "        # compute the predictions based on feature_matrix and weights using your predict_output() function\n",
    "        predictions = predict_output(feature_matrix, weights)\n",
    "\n",
    "        # compute the errors as predictions - output\n",
    "        errors = predictions - output\n",
    "\n",
    "        # from time to time, print the value of the cost function\n",
    "        if iteration%print_frequency==0:\n",
    "            print('Cost function = ', str(np.dot(errors,errors) + l2_penalty*(np.dot(weights,weights) - weights[0]**2)))\n",
    "        \n",
    "        for i in range(len(weights)): # loop over each weight\n",
    "            # Recall that feature_matrix[:,i] is the feature column associated with weights[i]\n",
    "            # compute the derivative for weight[i].\n",
    "            #(Remember: when i=0, you are computing the derivative of the constant!)\n",
    "            feature = feature_matrix[:, i]\n",
    "            if i == 0:\n",
    "                feature_is_constant = True\n",
    "            else:\n",
    "                feature_is_constant = False\n",
    "            weight = weights[i]    \n",
    "            derivative = feature_derivative_ridge(errors, feature, weight, l2_penalty, feature_is_constant)\n",
    "\n",
    "            # subtract the step size times the derivative from the current weight\n",
    "            weights = weights-(step_size*derivative)\n",
    "            \n",
    "    print('Done with gradient descent at iteration ', iteration)\n",
    "    print('Learned weights = ', str(weights))\n",
    "    return weights"
   ]
  },
  {
   "cell_type": "markdown",
   "metadata": {},
   "source": [
    "# Visualizing effect of L2 penalty"
   ]
  },
  {
   "cell_type": "markdown",
   "metadata": {},
   "source": [
    "The L2 penalty gets its name because it causes weights to have small L2 norms than otherwise. Let's see how large weights get penalized. Let us consider a simple model with 1 feature:"
   ]
  },
  {
   "cell_type": "code",
   "execution_count": 18,
   "metadata": {},
   "outputs": [],
   "source": [
    "simple_features = ['sqft_living']\n",
    "my_output = 'price'"
   ]
  },
  {
   "cell_type": "markdown",
   "metadata": {},
   "source": [
    "Let us split the dataset into training set and test set. Make sure to use `seed=0`:"
   ]
  },
  {
   "cell_type": "code",
   "execution_count": 19,
   "metadata": {},
   "outputs": [],
   "source": [
    "train_data,test_data = sales.random_split(.8,seed=0)"
   ]
  },
  {
   "cell_type": "markdown",
   "metadata": {},
   "source": [
    "In this part, we will only use `'sqft_living'` to predict `'price'`. Use the `get_numpy_data` function to get a Numpy versions of your data with only this feature, for both the `train_data` and the `test_data`. "
   ]
  },
  {
   "cell_type": "code",
   "execution_count": 20,
   "metadata": {},
   "outputs": [],
   "source": [
    "(simple_feature_matrix, output) = get_numpy_data(train_data, simple_features, my_output)\n",
    "(simple_test_feature_matrix, test_output) = get_numpy_data(test_data, simple_features, my_output)"
   ]
  },
  {
   "cell_type": "markdown",
   "metadata": {},
   "source": [
    "Let's set the parameters for our optimization:"
   ]
  },
  {
   "cell_type": "code",
   "execution_count": 21,
   "metadata": {},
   "outputs": [],
   "source": [
    "initial_weights = np.array([0., 0.])\n",
    "step_size = 1e-12\n",
    "max_iterations=1000"
   ]
  },
  {
   "cell_type": "markdown",
   "metadata": {},
   "source": [
    "First, let's consider no regularization.  Set the `l2_penalty` to `0.0` and run your ridge regression algorithm to learn the weights of your model.  Call your weights:\n",
    "\n",
    "`simple_weights_0_penalty`\n",
    "\n",
    "we'll use them later."
   ]
  },
  {
   "cell_type": "code",
   "execution_count": 24,
   "metadata": {},
   "outputs": [
    {
     "name": "stdout",
     "output_type": "stream",
     "text": [
      "Starting gradient descent with l2_penalty = 0.0\n",
      "Iteration = 1\n",
      "Cost function =  7433051851026171.0\n",
      "Iteration = 2\n",
      "Cost function =  5392813873308664.0\n",
      "Iteration = 3\n",
      "Cost function =  4021291020355067.5\n",
      "Iteration = 4\n",
      "Cost function =  3099303018603228.5\n",
      "Iteration = 5\n",
      "Cost function =  2479508843432377.5\n",
      "Iteration = 6\n",
      "Cost function =  2062860450128109.5\n",
      "Iteration = 7\n",
      "Cost function =  1782774107601294.0\n",
      "Iteration = 8\n",
      "Cost function =  1594489787942920.5\n",
      "Iteration = 9\n",
      "Cost function =  1467918157532835.5\n",
      "Iteration = 10\n",
      "Cost function =  1382832061920971.5\n",
      "Iteration = 20\n",
      "Cost function =  1211610829587867.2\n",
      "Iteration = 30\n",
      "Cost function =  1208383971780452.2\n",
      "Iteration = 40\n",
      "Cost function =  1208323157994875.5\n",
      "Iteration = 50\n",
      "Cost function =  1208322011890294.5\n",
      "Iteration = 60\n",
      "Cost function =  1208321990290657.0\n",
      "Iteration = 70\n",
      "Cost function =  1208321989883587.5\n",
      "Iteration = 80\n",
      "Cost function =  1208321989875915.8\n",
      "Iteration = 90\n",
      "Cost function =  1208321989875771.2\n",
      "Iteration = 100\n",
      "Cost function =  1208321989875768.5\n",
      "Iteration = 200\n",
      "Cost function =  1208321989875768.2\n",
      "Iteration = 300\n",
      "Cost function =  1208321989875768.2\n",
      "Iteration = 400\n",
      "Cost function =  1208321989875768.2\n",
      "Iteration = 500\n",
      "Cost function =  1208321989875768.2\n",
      "Iteration = 600\n",
      "Cost function =  1208321989875768.2\n",
      "Iteration = 700\n",
      "Cost function =  1208321989875768.2\n",
      "Iteration = 800\n",
      "Cost function =  1208321989875768.2\n",
      "Iteration = 900\n",
      "Cost function =  1208321989875768.2\n",
      "Iteration = 1000\n",
      "Cost function =  1208321989875768.2\n",
      "Done with gradient descent at iteration  1000\n",
      "Learned weights =  [262.91714394 262.91714394]\n"
     ]
    },
    {
     "data": {
      "text/plain": [
       "array([262.91714394, 262.91714394])"
      ]
     },
     "execution_count": 24,
     "metadata": {},
     "output_type": "execute_result"
    }
   ],
   "source": [
    "l2_penalty = 0.0\n",
    "feature_matrix = simple_feature_matrix\n",
    "\n",
    "\n",
    "simple_weights_0_penalty = ridge_regression_gradient_descent(feature_matrix, output, initial_weights, step_size, l2_penalty, max_iterations)\n",
    "\n",
    "simple_weights_0_penalty"
   ]
  },
  {
   "cell_type": "code",
   "execution_count": null,
   "metadata": {},
   "outputs": [],
   "source": []
  },
  {
   "cell_type": "markdown",
   "metadata": {},
   "source": [
    "Next, let's consider high regularization.  Set the `l2_penalty` to `1e11` and run your ridge regression algorithm to learn the weights of your model.  Call your weights:\n",
    "\n",
    "`simple_weights_high_penalty`\n",
    "\n",
    "we'll use them later."
   ]
  },
  {
   "cell_type": "code",
   "execution_count": 25,
   "metadata": {},
   "outputs": [
    {
     "name": "stdout",
     "output_type": "stream",
     "text": [
      "Starting gradient descent with l2_penalty = 100000000000.0\n",
      "Iteration = 1\n",
      "Cost function =  7433051851026171.0\n",
      "Iteration = 2\n",
      "Cost function =  5617138208758414.0\n",
      "Iteration = 3\n",
      "Cost function =  4919270897104055.0\n",
      "Iteration = 4\n",
      "Cost function =  4651070873237246.0\n",
      "Iteration = 5\n",
      "Cost function =  4547994734624671.0\n",
      "Iteration = 6\n",
      "Cost function =  4508377967017239.0\n",
      "Iteration = 7\n",
      "Cost function =  4493150252798178.5\n",
      "Iteration = 8\n",
      "Cost function =  4487296336861775.0\n",
      "Iteration = 9\n",
      "Cost function =  4485045475994182.5\n",
      "Iteration = 10\n",
      "Cost function =  4484179718048338.0\n",
      "Iteration = 20\n",
      "Cost function =  4483637392689706.0\n",
      "Iteration = 30\n",
      "Cost function =  4483637327553073.0\n",
      "Iteration = 40\n",
      "Cost function =  4483637327321873.0\n",
      "Iteration = 50\n",
      "Cost function =  4483637327319958.0\n",
      "Iteration = 60\n",
      "Cost function =  4483637327319942.0\n",
      "Iteration = 70\n",
      "Cost function =  4483637327319941.0\n",
      "Iteration = 80\n",
      "Cost function =  4483637327319941.0\n",
      "Iteration = 90\n",
      "Cost function =  4483637327319941.0\n",
      "Iteration = 100\n",
      "Cost function =  4483637327319941.0\n",
      "Iteration = 200\n",
      "Cost function =  4483637327319941.0\n",
      "Iteration = 300\n",
      "Cost function =  4483637327319941.0\n",
      "Iteration = 400\n",
      "Cost function =  4483637327319941.0\n",
      "Iteration = 500\n",
      "Cost function =  4483637327319941.0\n",
      "Iteration = 600\n",
      "Cost function =  4483637327319941.0\n",
      "Iteration = 700\n",
      "Cost function =  4483637327319941.0\n",
      "Iteration = 800\n",
      "Cost function =  4483637327319941.0\n",
      "Iteration = 900\n",
      "Cost function =  4483637327319941.0\n",
      "Iteration = 1000\n",
      "Cost function =  4483637327319941.0\n",
      "Done with gradient descent at iteration  1000\n",
      "Learned weights =  [124.57082656 124.57082656]\n"
     ]
    },
    {
     "data": {
      "text/plain": [
       "array([124.57082656, 124.57082656])"
      ]
     },
     "execution_count": 25,
     "metadata": {},
     "output_type": "execute_result"
    }
   ],
   "source": [
    "l2_penalty = 1e11\n",
    "feature_matrix = simple_feature_matrix\n",
    "\n",
    "simple_weights_high_penalty = ridge_regression_gradient_descent(feature_matrix, output, initial_weights, step_size, l2_penalty, max_iterations)\n",
    "\n",
    "simple_weights_high_penalty"
   ]
  },
  {
   "cell_type": "code",
   "execution_count": null,
   "metadata": {},
   "outputs": [],
   "source": []
  },
  {
   "cell_type": "markdown",
   "metadata": {},
   "source": [
    "This code will plot the two learned models.  (The blue line is for the model with no regularization and the red line is for the one with high regularization.)"
   ]
  },
  {
   "cell_type": "code",
   "execution_count": 26,
   "metadata": {},
   "outputs": [
    {
     "data": {
      "text/plain": [
       "[<matplotlib.lines.Line2D at 0x7fe1383f5400>,\n",
       " <matplotlib.lines.Line2D at 0x7fe1383f54a8>,\n",
       " <matplotlib.lines.Line2D at 0x7fe1383f5518>,\n",
       " <matplotlib.lines.Line2D at 0x7fe1383f55f8>,\n",
       " <matplotlib.lines.Line2D at 0x7fe1383f56a0>,\n",
       " <matplotlib.lines.Line2D at 0x7fe1383f5748>]"
      ]
     },
     "execution_count": 26,
     "metadata": {},
     "output_type": "execute_result"
    },
    {
     "data": {
      "image/png": "[encoded data removed]",
      "text/plain": [
       "<Figure size 432x288 with 1 Axes>"
      ]
     },
     "metadata": {
      "needs_background": "light"
     },
     "output_type": "display_data"
    }
   ],
   "source": [
    "import matplotlib.pyplot as plt\n",
    "%matplotlib inline\n",
    "plt.plot(simple_feature_matrix,output,'k.',\n",
    "         simple_feature_matrix,predict_output(simple_feature_matrix, simple_weights_0_penalty),'b-',\n",
    "        simple_feature_matrix,predict_output(simple_feature_matrix, simple_weights_high_penalty),'r-')"
   ]
  },
  {
   "cell_type": "code",
   "execution_count": null,
   "metadata": {},
   "outputs": [],
   "source": []
  },
  {
   "cell_type": "code",
   "execution_count": null,
   "metadata": {},
   "outputs": [],
   "source": []
  },
  {
   "cell_type": "markdown",
   "metadata": {},
   "source": [
    "Compute the RSS on the TEST data for the following three sets of weights:\n",
    "1. The initial weights (all zeros)\n",
    "2. The weights learned with no regularization\n",
    "3. The weights learned with high regularization\n",
    "\n",
    "Which weights perform best?"
   ]
  },
  {
   "cell_type": "code",
   "execution_count": 31,
   "metadata": {},
   "outputs": [
    {
     "name": "stdout",
     "output_type": "stream",
     "text": [
      "1784273282524564.0\n"
     ]
    }
   ],
   "source": [
    "weights = initial_weights\n",
    "feature_matrix = simple_test_feature_matrix\n",
    "\n",
    "test_predictions = predict_output(feature_matrix, weights)\n",
    "test_errors = test_predictions - test_output\n",
    "squared_test_errors = test_errors*test_errors\n",
    "RSS1 = squared_test_errors.sum()\n",
    "print(RSS1)"
   ]
  },
  {
   "cell_type": "code",
   "execution_count": 32,
   "metadata": {},
   "outputs": [
    {
     "name": "stdout",
     "output_type": "stream",
     "text": [
      "275733846720121.44\n"
     ]
    }
   ],
   "source": [
    "weights = simple_weights_0_penalty\n",
    "feature_matrix = simple_test_feature_matrix\n",
    "\n",
    "test_predictions = predict_output(feature_matrix, weights)\n",
    "test_errors = test_predictions - test_output\n",
    "squared_test_errors = test_errors*test_errors\n",
    "RSS2 = squared_test_errors.sum()\n",
    "print(RSS2)"
   ]
  },
  {
   "cell_type": "code",
   "execution_count": 33,
   "metadata": {},
   "outputs": [
    {
     "name": "stdout",
     "output_type": "stream",
     "text": [
      "694374519523613.2\n"
     ]
    }
   ],
   "source": [
    "weights = simple_weights_high_penalty\n",
    "feature_matrix = simple_test_feature_matrix\n",
    "\n",
    "test_predictions = predict_output(feature_matrix, weights)\n",
    "test_errors = test_predictions - test_output\n",
    "squared_test_errors = test_errors*test_errors\n",
    "RSS3 = squared_test_errors.sum()\n",
    "print(RSS3)"
   ]
  },
  {
   "cell_type": "code",
   "execution_count": 34,
   "metadata": {},
   "outputs": [
    {
     "data": {
      "text/plain": [
       "275733846720121.44"
      ]
     },
     "execution_count": 34,
     "metadata": {},
     "output_type": "execute_result"
    }
   ],
   "source": [
    "min(RSS1,RSS2,RSS3)"
   ]
  },
  {
   "cell_type": "markdown",
   "metadata": {},
   "source": []
  },
  {
   "cell_type": "code",
   "execution_count": 36,
   "metadata": {},
   "outputs": [
    {
     "name": "stdout",
     "output_type": "stream",
     "text": [
      "[1784273282524564.0, 275733846720121.44, 694374519523613.2]\n"
     ]
    }
   ],
   "source": [
    "print([RSS1, RSS2, RSS3])"
   ]
  },
  {
   "cell_type": "code",
   "execution_count": null,
   "metadata": {},
   "outputs": [],
   "source": [
    "question1 = -56554166782350.0, -22446749336.0\n",
    "question2 = blue line with model with no regularization\n",
    "question3 = list of RSS1, RSS2, RSS3"
   ]
  },
  {
   "cell_type": "markdown",
   "metadata": {},
   "source": [
    "***QUIZ QUESTIONS***\n",
    "1. What is the value of the coefficient for `sqft_living` that you learned with no regularization, rounded to 1 decimal place?  What about the one with high regularization?\n",
    "2. Comparing the lines you fit with the with no regularization versus high regularization, which one is steeper?\n",
    "3. What are the RSS on the test data for each of the set of weights above (initial, no regularization, high regularization)? \n"
   ]
  },
  {
   "cell_type": "markdown",
   "metadata": {},
   "source": [
    "# Running a multiple regression with L2 penalty"
   ]
  },
  {
   "cell_type": "markdown",
   "metadata": {},
   "source": [
    "Let us now consider a model with 2 features: `['sqft_living', 'sqft_living15']`."
   ]
  },
  {
   "cell_type": "markdown",
   "metadata": {},
   "source": [
    "First, create Numpy versions of your training and test data with these two features. "
   ]
  },
  {
   "cell_type": "code",
   "execution_count": 37,
   "metadata": {},
   "outputs": [],
   "source": [
    "model_features = ['sqft_living', 'sqft_living15'] # sqft_living15 is the average squarefeet for the nearest 15 neighbors. \n",
    "my_output = 'price'\n",
    "(feature_matrix, output) = get_numpy_data(train_data, model_features, my_output)\n",
    "(test_feature_matrix, test_output) = get_numpy_data(test_data, model_features, my_output)"
   ]
  },
  {
   "cell_type": "code",
   "execution_count": 38,
   "metadata": {},
   "outputs": [
    {
     "data": {
      "text/plain": [
       "array([[1.00e+00, 1.18e+03, 1.34e+03],\n",
       "       [1.00e+00, 2.57e+03, 1.69e+03],\n",
       "       [1.00e+00, 7.70e+02, 2.72e+03],\n",
       "       ...,\n",
       "       [1.00e+00, 1.53e+03, 1.53e+03],\n",
       "       [1.00e+00, 1.60e+03, 1.41e+03],\n",
       "       [1.00e+00, 1.02e+03, 1.02e+03]])"
      ]
     },
     "execution_count": 38,
     "metadata": {},
     "output_type": "execute_result"
    }
   ],
   "source": [
    "feature_matrix"
   ]
  },
  {
   "cell_type": "code",
   "execution_count": null,
   "metadata": {},
   "outputs": [],
   "source": []
  },
  {
   "cell_type": "markdown",
   "metadata": {},
   "source": [
    "We need to re-inialize the weights, since we have one extra parameter. Let us also set the step size and maximum number of iterations."
   ]
  },
  {
   "cell_type": "code",
   "execution_count": 39,
   "metadata": {},
   "outputs": [],
   "source": [
    "initial_weights = np.array([0.0,0.0,0.0])\n",
    "step_size = 1e-12\n",
    "max_iterations = 1000"
   ]
  },
  {
   "cell_type": "markdown",
   "metadata": {},
   "source": [
    "First, let's consider no regularization.  Set the `l2_penalty` to `0.0` and run your ridge regression algorithm to learn the weights of your model.  Call your weights:\n",
    "\n",
    "`multiple_weights_0_penalty`"
   ]
  },
  {
   "cell_type": "code",
   "execution_count": 40,
   "metadata": {},
   "outputs": [
    {
     "name": "stdout",
     "output_type": "stream",
     "text": [
      "Starting gradient descent with l2_penalty = 0.0\n",
      "Iteration = 1\n",
      "Cost function =  7433051851026171.0\n",
      "Iteration = 2\n",
      "Cost function =  2014014956411022.5\n",
      "Iteration = 3\n",
      "Cost function =  1366294824963393.0\n",
      "Iteration = 4\n",
      "Cost function =  1288874911269978.8\n",
      "Iteration = 5\n",
      "Cost function =  1279621156839187.8\n",
      "Iteration = 6\n",
      "Cost function =  1278515085197149.0\n",
      "Iteration = 7\n",
      "Cost function =  1278382879994766.5\n",
      "Iteration = 8\n",
      "Cost function =  1278367077930169.0\n",
      "Iteration = 9\n",
      "Cost function =  1278365189159976.0\n",
      "Iteration = 10\n",
      "Cost function =  1278364963401321.8\n",
      "Iteration = 20\n",
      "Cost function =  1278364932753928.0\n",
      "Iteration = 30\n",
      "Cost function =  1278364932753928.0\n",
      "Iteration = 40\n",
      "Cost function =  1278364932753927.8\n",
      "Iteration = 50\n",
      "Cost function =  1278364932753927.8\n",
      "Iteration = 60\n",
      "Cost function =  1278364932753927.8\n",
      "Iteration = 70\n",
      "Cost function =  1278364932753927.8\n",
      "Iteration = 80\n",
      "Cost function =  1278364932753927.8\n",
      "Iteration = 90\n",
      "Cost function =  1278364932753927.8\n",
      "Iteration = 100\n",
      "Cost function =  1278364932753927.8\n",
      "Iteration = 200\n",
      "Cost function =  1278364932753927.8\n",
      "Iteration = 300\n",
      "Cost function =  1278364932753927.8\n",
      "Iteration = 400\n",
      "Cost function =  1278364932753927.8\n",
      "Iteration = 500\n",
      "Cost function =  1278364932753927.8\n",
      "Iteration = 600\n",
      "Cost function =  1278364932753927.8\n",
      "Iteration = 700\n",
      "Cost function =  1278364932753927.8\n",
      "Iteration = 800\n",
      "Cost function =  1278364932753927.8\n",
      "Iteration = 900\n",
      "Cost function =  1278364932753927.8\n",
      "Iteration = 1000\n",
      "Cost function =  1278364932753927.8\n",
      "Done with gradient descent at iteration  1000\n",
      "Learned weights =  [137.16342111 137.16342111 137.16342111]\n"
     ]
    },
    {
     "data": {
      "text/plain": [
       "array([137.16342111, 137.16342111, 137.16342111])"
      ]
     },
     "execution_count": 40,
     "metadata": {},
     "output_type": "execute_result"
    }
   ],
   "source": [
    "l2_penalty = 0.0\n",
    "\n",
    "multiple_weights_0_penalty = ridge_regression_gradient_descent(feature_matrix, output, initial_weights, step_size, l2_penalty, max_iterations)\n",
    "\n",
    "multiple_weights_0_penalty"
   ]
  },
  {
   "cell_type": "code",
   "execution_count": null,
   "metadata": {},
   "outputs": [],
   "source": []
  },
  {
   "cell_type": "code",
   "execution_count": null,
   "metadata": {},
   "outputs": [],
   "source": []
  },
  {
   "cell_type": "markdown",
   "metadata": {},
   "source": [
    "Next, let's consider high regularization.  Set the `l2_penalty` to `1e11` and run your ridge regression algorithm to learn the weights of your model.  Call your weights:\n",
    "\n",
    "`multiple_weights_high_penalty`"
   ]
  },
  {
   "cell_type": "code",
   "execution_count": 41,
   "metadata": {},
   "outputs": [
    {
     "name": "stdout",
     "output_type": "stream",
     "text": [
      "Starting gradient descent with l2_penalty = 100000000000.0\n",
      "Iteration = 1\n",
      "Cost function =  7433051851026171.0\n",
      "Iteration = 2\n",
      "Cost function =  3625920249596269.0\n",
      "Iteration = 3\n",
      "Cost function =  3613652748334503.0\n",
      "Iteration = 4\n",
      "Cost function =  3613550777022357.0\n",
      "Iteration = 5\n",
      "Cost function =  3613546905900864.0\n",
      "Iteration = 6\n",
      "Cost function =  3613546702190544.5\n",
      "Iteration = 7\n",
      "Cost function =  3613546691237438.0\n",
      "Iteration = 8\n",
      "Cost function =  3613546690647820.0\n",
      "Iteration = 9\n",
      "Cost function =  3613546690616078.0\n",
      "Iteration = 10\n",
      "Cost function =  3613546690614368.5\n",
      "Iteration = 20\n",
      "Cost function =  3613546690614271.0\n",
      "Iteration = 30\n",
      "Cost function =  3613546690614271.0\n",
      "Iteration = 40\n",
      "Cost function =  3613546690614271.0\n",
      "Iteration = 50\n",
      "Cost function =  3613546690614271.0\n",
      "Iteration = 60\n",
      "Cost function =  3613546690614271.0\n",
      "Iteration = 70\n",
      "Cost function =  3613546690614271.0\n",
      "Iteration = 80\n",
      "Cost function =  3613546690614271.0\n",
      "Iteration = 90\n",
      "Cost function =  3613546690614271.0\n",
      "Iteration = 100\n",
      "Cost function =  3613546690614271.0\n",
      "Iteration = 200\n",
      "Cost function =  3613546690614271.0\n",
      "Iteration = 300\n",
      "Cost function =  3613546690614271.0\n",
      "Iteration = 400\n",
      "Cost function =  3613546690614271.0\n",
      "Iteration = 500\n",
      "Cost function =  3613546690614271.0\n",
      "Iteration = 600\n",
      "Cost function =  3613546690614271.0\n",
      "Iteration = 700\n",
      "Cost function =  3613546690614271.0\n",
      "Iteration = 800\n",
      "Cost function =  3613546690614271.0\n",
      "Iteration = 900\n",
      "Cost function =  3613546690614271.0\n",
      "Iteration = 1000\n",
      "Cost function =  3613546690614271.0\n",
      "Done with gradient descent at iteration  1000\n",
      "Learned weights =  [84.83628344 84.83628344 84.83628344]\n"
     ]
    },
    {
     "data": {
      "text/plain": [
       "array([84.83628344, 84.83628344, 84.83628344])"
      ]
     },
     "execution_count": 41,
     "metadata": {},
     "output_type": "execute_result"
    }
   ],
   "source": [
    "l2_penalty = 1e11\n",
    "\n",
    "multiple_weights_high_penalty = ridge_regression_gradient_descent(feature_matrix, output, initial_weights, step_size, l2_penalty, max_iterations)\n",
    "\n",
    "\n",
    "multiple_weights_high_penalty"
   ]
  },
  {
   "cell_type": "code",
   "execution_count": null,
   "metadata": {},
   "outputs": [],
   "source": []
  },
  {
   "cell_type": "code",
   "execution_count": null,
   "metadata": {},
   "outputs": [],
   "source": []
  },
  {
   "cell_type": "markdown",
   "metadata": {},
   "source": [
    "Compute the RSS on the TEST data for the following three sets of weights:\n",
    "1. The initial weights (all zeros)\n",
    "2. The weights learned with no regularization\n",
    "3. The weights learned with high regularization\n",
    "\n",
    "Which weights perform best?"
   ]
  },
  {
   "cell_type": "code",
   "execution_count": 45,
   "metadata": {},
   "outputs": [
    {
     "name": "stdout",
     "output_type": "stream",
     "text": [
      "1784273282524564.0\n"
     ]
    }
   ],
   "source": [
    "weights = initial_weights\n",
    "feature_matrix = test_feature_matrix\n",
    "\n",
    "test_predictions_initial = predict_output(feature_matrix, weights)\n",
    "test_errors = test_predictions_initial - test_output\n",
    "squared_test_errors = test_errors*test_errors\n",
    "RSST1 = squared_test_errors.sum()\n",
    "print(RSST1)"
   ]
  },
  {
   "cell_type": "code",
   "execution_count": 46,
   "metadata": {},
   "outputs": [
    {
     "name": "stdout",
     "output_type": "stream",
     "text": [
      "285910194916883.56\n"
     ]
    }
   ],
   "source": [
    "weights = multiple_weights_0_penalty\n",
    "feature_matrix = test_feature_matrix\n",
    "\n",
    "test_predictions_0_penalty = predict_output(feature_matrix, weights)\n",
    "test_errors = test_predictions_0_penalty - test_output\n",
    "squared_test_errors = test_errors*test_errors\n",
    "RSST2 = squared_test_errors.sum()\n",
    "print(RSST2)"
   ]
  },
  {
   "cell_type": "code",
   "execution_count": 47,
   "metadata": {},
   "outputs": [
    {
     "name": "stdout",
     "output_type": "stream",
     "text": [
      "505066514355629.75\n"
     ]
    }
   ],
   "source": [
    "weights = multiple_weights_high_penalty\n",
    "feature_matrix = test_feature_matrix\n",
    "\n",
    "test_predictions_high_penalty = predict_output(feature_matrix, weights)\n",
    "test_errors = test_predictions_high_penalty - test_output\n",
    "squared_test_errors = test_errors*test_errors\n",
    "RSST3 = squared_test_errors.sum()\n",
    "print(RSST3)"
   ]
  },
  {
   "cell_type": "markdown",
   "metadata": {},
   "source": [
    "Predict the house price for the 1st house in the test set using the no regularization and high regularization models. (Remember that python starts indexing from 0.) How far is the prediction from the actual price?  Which weights perform best for the 1st house?"
   ]
  },
  {
   "cell_type": "code",
   "execution_count": 56,
   "metadata": {},
   "outputs": [
    {
     "data": {
      "text/plain": [
       "440431.7"
      ]
     },
     "execution_count": 56,
     "metadata": {},
     "output_type": "execute_result"
    }
   ],
   "source": [
    "round(test_predictions_0_penalty[0],1)"
   ]
  },
  {
   "cell_type": "code",
   "execution_count": 53,
   "metadata": {},
   "outputs": [
    {
     "data": {
      "text/plain": [
       "272409.3"
      ]
     },
     "execution_count": 53,
     "metadata": {},
     "output_type": "execute_result"
    }
   ],
   "source": [
    "round(test_predictions_high_penalty[0],1)"
   ]
  },
  {
   "cell_type": "code",
   "execution_count": 51,
   "metadata": {},
   "outputs": [
    {
     "data": {
      "text/plain": [
       "310000.0"
      ]
     },
     "execution_count": 51,
     "metadata": {},
     "output_type": "execute_result"
    }
   ],
   "source": [
    "test_output[0]"
   ]
  },
  {
   "cell_type": "code",
   "execution_count": null,
   "metadata": {},
   "outputs": [],
   "source": [
    "question 1 = ans above"
   ]
  },
  {
   "cell_type": "code",
   "execution_count": null,
   "metadata": {},
   "outputs": [],
   "source": []
  },
  {
   "cell_type": "code",
   "execution_count": 54,
   "metadata": {},
   "outputs": [
    {
     "name": "stdout",
     "output_type": "stream",
     "text": [
      "[1784273282524564.0, 285910194916883.56, 505066514355629.75]\n"
     ]
    }
   ],
   "source": [
    "RSS_Test = [RSST1, RSST2, RSST3]\n",
    "print(RSS_Test)"
   ]
  },
  {
   "cell_type": "code",
   "execution_count": null,
   "metadata": {},
   "outputs": [],
   "source": [
    "Question2 = above ans"
   ]
  },
  {
   "cell_type": "code",
   "execution_count": 58,
   "metadata": {},
   "outputs": [
    {
     "name": "stdout",
     "output_type": "stream",
     "text": [
      "130431.70000000001\n"
     ]
    }
   ],
   "source": [
    "no_r = 440431.7 - 310000.0\n",
    "print(no_r)"
   ]
  },
  {
   "cell_type": "code",
   "execution_count": 59,
   "metadata": {},
   "outputs": [
    {
     "name": "stdout",
     "output_type": "stream",
     "text": [
      "37590.70000000001\n"
     ]
    }
   ],
   "source": [
    "high_r = 310000.0 - 272409.3\n",
    "print(high_r)"
   ]
  },
  {
   "cell_type": "code",
   "execution_count": 60,
   "metadata": {},
   "outputs": [
    {
     "data": {
      "text/plain": [
       "37590.70000000001"
      ]
     },
     "execution_count": 60,
     "metadata": {},
     "output_type": "execute_result"
    }
   ],
   "source": [
    "min(no_r, high_r)"
   ]
  },
  {
   "cell_type": "code",
   "execution_count": null,
   "metadata": {},
   "outputs": [],
   "source": [
    "Question3 = high regularization weights make  better prediction for that perticular house"
   ]
  },
  {
   "cell_type": "markdown",
   "metadata": {
    "collapsed": true
   },
   "source": [
    "***QUIZ QUESTIONS***\n",
    "1. What is the value of the coefficient for `sqft_living` that you learned with no regularization, rounded to 1 decimal place?  What about the one with high regularization?\n",
    "2. What are the RSS on the test data for each of the set of weights above (initial, no regularization, high regularization)? \n",
    "3. We make prediction for the first house in the test set using two sets of weights (no regularization vs high regularization). Which weights make better prediction <u>for that particular house</u>?"
   ]
  },
  {
   "cell_type": "code",
   "execution_count": null,
   "metadata": {},
   "outputs": [],
   "source": []
  }
 ],
 "metadata": {
  "kernelspec": {
   "display_name": "Python 3",
   "language": "python",
   "name": "python3"
  },
  "language_info": {
   "codemirror_mode": {
    "name": "ipython",
    "version": 3
   },
   "file_extension": ".py",
   "mimetype": "text/x-python",
   "name": "python",
   "nbconvert_exporter": "python",
   "pygments_lexer": "ipython3",
   "version": "3.6.9"
  }
 },
 "nbformat": 4,
 "nbformat_minor": 1
}
